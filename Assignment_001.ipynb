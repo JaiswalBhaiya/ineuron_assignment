{
  "nbformat": 4,
  "nbformat_minor": 0,
  "metadata": {
    "colab": {
      "provenance": [],
      "collapsed_sections": []
    },
    "kernelspec": {
      "name": "python3",
      "display_name": "Python 3"
    },
    "language_info": {
      "name": "python"
    }
  },
  "cells": [
    {
      "cell_type": "markdown",
      "source": [
        "##1.Find out all the types of error that we have encountered in our lecture and why? Also include the examples."
      ],
      "metadata": {
        "id": "JTLKDDrOIUqf"
      }
    },
    {
      "cell_type": "markdown",
      "source": [
        "Answer -\n",
        "\n",
        "1.  NameError: name 'Print' is not defined\n",
        "2.  SyntaxError: Missing parentheses in call to 'print'. Did you mean print     (\"Good Evening\")? \n",
        "3.  SyntaxError: EOL while scanning string literal\n",
        "4.  SyntaxError: invalid syntax\n",
        "5.  SyntaxError: can't assign to operator\n",
        "6.  TypeError: can only concatenate str (not \"int\") to str\n",
        "7.  TypeError: unsupported operand type(s) for +: 'int' and 'str'\n",
        "8.  NameError: name 'Ten' is not defined\n",
        "9.  TypeError: 'str' object is not callable\n",
        "10. TypeError: unsupported operand type(s) for -: 'int' and 'str'\n",
        "11. ValueError: invalid literal for int() with base 10: '10.2'\n",
        "12. TypeError: sum_of_values() takes 2 positional arguments but 3 were given\n",
        "13. KeyboardInterrupt: Interrupted by user\n"
      ],
      "metadata": {
        "id": "m3-HBZofIjzH"
      }
    },
    {
      "cell_type": "markdown",
      "source": [
        "##2.Take input A and B and print their sum,subtract, mul, div, square of the nos."
      ],
      "metadata": {
        "id": "YtS3yKceL2NT"
      }
    },
    {
      "cell_type": "code",
      "execution_count": 20,
      "metadata": {
        "colab": {
          "base_uri": "https://localhost:8080/"
        },
        "id": "eHKE7FoXHvI0",
        "outputId": "db1e9ca3-24c1-40d3-ba1d-6f215cdb8d0e"
      },
      "outputs": [
        {
          "output_type": "stream",
          "name": "stdout",
          "text": [
            "Enter value of A: 20\n",
            "Enter value of B: 42\n",
            "Sum of A & B is : 62\n"
          ]
        }
      ],
      "source": [
        "A = int(input(\"Enter value of A: \"))\n",
        "B = int(input(\"Enter value of B: \"))\n",
        "print(f\"Sum of A & B is : {A+B}\")"
      ]
    },
    {
      "cell_type": "code",
      "source": [
        "A = int(input(\"Enter value of A: \"))\n",
        "B = int(input(\"Enter value of B: \"))\n",
        "print(f\"Subtraction of A & B is : {A-B}\")"
      ],
      "metadata": {
        "colab": {
          "base_uri": "https://localhost:8080/"
        },
        "id": "WdM-xuZcNfcA",
        "outputId": "39c86b50-f7b4-42ef-e25c-159d9cc3b6fe"
      },
      "execution_count": 4,
      "outputs": [
        {
          "output_type": "stream",
          "name": "stdout",
          "text": [
            "Enter value of A: 30\n",
            "Enter value of B: 40\n",
            "Subtraction of A & B is : -10\n"
          ]
        }
      ]
    },
    {
      "cell_type": "code",
      "source": [
        "A = int(input(\"Enter value of A: \"))\n",
        "B = int(input(\"Enter value of B: \"))\n",
        "print(f\"Multiplication of A & B is : {A*B}\")"
      ],
      "metadata": {
        "colab": {
          "base_uri": "https://localhost:8080/"
        },
        "id": "iqzyo_VuNf6j",
        "outputId": "242e7aa2-3484-4d94-c19d-bfb93f3e823d"
      },
      "execution_count": 6,
      "outputs": [
        {
          "output_type": "stream",
          "name": "stdout",
          "text": [
            "Enter value of A: 10\n",
            "Enter value of B: 21\n",
            "Multiplication of A & B is : 210\n"
          ]
        }
      ]
    },
    {
      "cell_type": "code",
      "source": [
        "A = int(input(\"Enter value of A: \"))\n",
        "B = int(input(\"Enter value of B: \"))\n",
        "print(f\"Division of A & B is : {A/B}\")"
      ],
      "metadata": {
        "colab": {
          "base_uri": "https://localhost:8080/"
        },
        "id": "JFH7JPGHNgE3",
        "outputId": "77c8c37d-2a8a-43c0-982f-37439a2b20ec"
      },
      "execution_count": 7,
      "outputs": [
        {
          "output_type": "stream",
          "name": "stdout",
          "text": [
            "Enter value of A: 20\n",
            "Enter value of B: 5\n",
            "Division of A & B is : 4.0\n"
          ]
        }
      ]
    },
    {
      "cell_type": "code",
      "source": [
        "A = int(input(\"Enter value of A: \"))\n",
        "B = int(input(\"Enter value of B: \"))\n",
        "print(f\"Square of A & B is : {A**B}\")"
      ],
      "metadata": {
        "colab": {
          "base_uri": "https://localhost:8080/"
        },
        "id": "BxWbynVWNgIS",
        "outputId": "fabfe0f9-1f3e-4090-cd5e-0a8dd96086ba"
      },
      "execution_count": 8,
      "outputs": [
        {
          "output_type": "stream",
          "name": "stdout",
          "text": [
            "Enter value of A: 10\n",
            "Enter value of B: 2\n",
            "Square of A & B is : 100\n"
          ]
        }
      ]
    },
    {
      "cell_type": "markdown",
      "source": [
        "##3.How many reserve keywords are there in python and why we should not use them as a variable name."
      ],
      "metadata": {
        "id": "eR8MKWNOOk5k"
      }
    },
    {
      "cell_type": "markdown",
      "source": [
        "Answer : \n",
        "Because reserve keywords are some predefined meaning and syntax in the language.These keywords also have to be used to develop programming instructions.\n",
        "the 33 reserve keywords are - \n",
        "![image.png](data:image/png;base64,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)"
      ],
      "metadata": {
        "id": "q5axaVxDOrtO"
      }
    },
    {
      "cell_type": "markdown",
      "source": [
        "##4.Create email ids with the user inputs. in the following format - lastname.firstname@gmail.com"
      ],
      "metadata": {
        "id": "nBhd6LN_QCPR"
      }
    },
    {
      "cell_type": "code",
      "source": [
        "first_name = input(\"First name : \").lower()\n",
        "last_name = input(\"Last name : \").lower()\n",
        "print(f\"The email_id is : {last_name}.{first_name}@gmail.com\")"
      ],
      "metadata": {
        "colab": {
          "base_uri": "https://localhost:8080/"
        },
        "id": "qfvQAfTnOqIA",
        "outputId": "619dfda0-5447-41a3-cf33-984be951e092"
      },
      "execution_count": 21,
      "outputs": [
        {
          "output_type": "stream",
          "name": "stdout",
          "text": [
            "First name : Deepak\n",
            "Last name : Jaiswal\n",
            "The email_id is : jaiswal.deepak@gmail.com\n",
            "The email_id is : jaiswal.deepak@gmail.com\n"
          ]
        }
      ]
    },
    {
      "cell_type": "markdown",
      "source": [
        "##5.Try to print the following lines -\n",
        "    Hi I'm Sunny\n",
        "    My address is 22\\3\n",
        "    I earn 20$ daily."
      ],
      "metadata": {
        "id": "aO0rvyXHS3KE"
      }
    },
    {
      "cell_type": "code",
      "source": [
        "print(\"\"\"Hi I'm Sunny\n",
        "My address is 22\\3\n",
        "I earn 20$ daily.\"\"\")  # why 22\\3 is not considering although 22/3 is considered"
      ],
      "metadata": {
        "colab": {
          "base_uri": "https://localhost:8080/"
        },
        "id": "C1JtvgReOjl8",
        "outputId": "331c4a9f-abbb-466c-fd66-a3c832fe1143"
      },
      "execution_count": 22,
      "outputs": [
        {
          "output_type": "stream",
          "name": "stdout",
          "text": [
            "Hi I'm Sunny\n",
            "My address is 22\u0003\n",
            "I earn 20$ daily.\n"
          ]
        }
      ]
    },
    {
      "cell_type": "code",
      "source": [
        "print(\"\"\"Hi I'm Sunny\n",
        "My address is 22/3\n",
        "I earn 20$ daily.\"\"\")"
      ],
      "metadata": {
        "colab": {
          "base_uri": "https://localhost:8080/"
        },
        "id": "3oujth8JSbMX",
        "outputId": "64b58cf6-4acd-4803-aad4-fb51b87cdd45"
      },
      "execution_count": 23,
      "outputs": [
        {
          "output_type": "stream",
          "name": "stdout",
          "text": [
            "Hi I'm Sunny\n",
            "My address is 22/3\n",
            "I earn 20$ daily.\n"
          ]
        }
      ]
    },
    {
      "cell_type": "markdown",
      "source": [
        "##6.Take user input (name, address, date of birth etc) to fill a form for your college and print their email IDs"
      ],
      "metadata": {
        "id": "UKnXgA-NUrp5"
      }
    },
    {
      "cell_type": "code",
      "source": [
        "import datetime\n",
        "first_name = input(\"First Name: \")\n",
        "last_name = input(\"Last Name: \")\n",
        "place = input(\"place: \")\n",
        "year_of_birth = input(\"year_of_birth: \")\n",
        "today = datetime.date.today()\n",
        "year = today.year\n",
        "age = int(year) - int(year_of_birth)\n",
        "\n",
        "print(f\"\"\"\n",
        "My name is: {first_name} {last_name}\n",
        "I live at: {place}\n",
        "is of age: {age}\n",
        "My email_id is : {last_name}.{first_name}{year_of_birth}@gmail.com\n",
        "\"\"\")"
      ],
      "metadata": {
        "colab": {
          "base_uri": "https://localhost:8080/"
        },
        "id": "ahffz0q3Um0e",
        "outputId": "a61c38db-fe3d-4af7-858a-b9092e27c577"
      },
      "execution_count": 35,
      "outputs": [
        {
          "output_type": "stream",
          "name": "stdout",
          "text": [
            "First Name: Deepak\n",
            "Last Name: Jaiswal\n",
            "place: Indore\n",
            "year_of_birth: 1995\n",
            "\n",
            "My name is: Deepak Jaiswal\n",
            "I live at: Indore\n",
            "is of age: 27\n",
            "My email_id is : Jaiswal.Deepak1995@gmail.com\n",
            "\n"
          ]
        }
      ]
    },
    {
      "cell_type": "markdown",
      "source": [
        "##7.Convert the following -\n",
        "\"22.4\" into integer\n",
        "\n",
        "\"22\" into complex no."
      ],
      "metadata": {
        "id": "OIlh9kndXvD0"
      }
    },
    {
      "cell_type": "code",
      "source": [
        "A = \"22.4\"\n",
        "print(f\"data type before: {type(A)}, value of A: {A}\")\n",
        "A = float(A)\n",
        "print(f\"data type between: {type(A)}, value of A: {A}\")\n",
        "A = int(A)\n",
        "print(f\"data type after: {type(A)}, value of A: {A}\")"
      ],
      "metadata": {
        "colab": {
          "base_uri": "https://localhost:8080/"
        },
        "id": "jdlT6MFBXt1k",
        "outputId": "7a00da6e-c7b5-461d-f042-55dbf029e785"
      },
      "execution_count": 32,
      "outputs": [
        {
          "output_type": "stream",
          "name": "stdout",
          "text": [
            "data type before: <class 'str'>, value of A: 22.4\n",
            "data type between: <class 'float'>, value of A: 22.4\n",
            "data type after: <class 'int'>, value of A: 22\n"
          ]
        }
      ]
    },
    {
      "cell_type": "code",
      "source": [
        "A = \"22.4\"\n",
        "print(f\"data type before: {type(A)}, value of A: {A}\")\n",
        "A = complex(A)\n",
        "print(f\"data type after: {type(A)}, value of A: {A}\")"
      ],
      "metadata": {
        "colab": {
          "base_uri": "https://localhost:8080/"
        },
        "id": "ZPzck2_jZEnW",
        "outputId": "c7ab52c5-d199-4a65-c614-0e14c0a0ff00"
      },
      "execution_count": 34,
      "outputs": [
        {
          "output_type": "stream",
          "name": "stdout",
          "text": [
            "data type before: <class 'str'>, value of A: 22.4\n",
            "data type after: <class 'complex'>, value of A: (22.4+0j)\n"
          ]
        }
      ]
    }
  ]
}