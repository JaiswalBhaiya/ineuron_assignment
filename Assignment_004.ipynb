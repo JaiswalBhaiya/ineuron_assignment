{
 "cells": [
  {
   "cell_type": "markdown",
   "metadata": {
    "id": "n3FuI-mutNl6"
   },
   "source": [
    "## control flow and conditional statements"
   ]
  },
  {
   "cell_type": "markdown",
   "metadata": {
    "id": "NCW2epdyuJ-a"
   },
   "source": [
    "Q1. Find the largest number from the given list, use for loop.\n",
    "\n",
    "```\n",
    "numbers = [12, 75, 150, 180, 145, 525, 50]\n",
    "```"
   ]
  },
  {
   "cell_type": "code",
   "execution_count": 1,
   "metadata": {},
   "outputs": [
    {
     "name": "stdout",
     "output_type": "stream",
     "text": [
      "Greatest number:  525\n"
     ]
    }
   ],
   "source": [
    "numbers = [12, 75, 150, 180, 145, 525, 50]\n",
    "maximum = numbers[0]\n",
    "\n",
    "for i in numbers:\n",
    "    if i > maximum:\n",
    "        maximum = i\n",
    "        \n",
    "print(\"Greatest number: \", maximum)"
   ]
  },
  {
   "cell_type": "markdown",
   "metadata": {
    "id": "Qsg0i1fTwEQj"
   },
   "source": [
    "Q2. Print all the even number between (1, 12)."
   ]
  },
  {
   "cell_type": "code",
   "execution_count": 16,
   "metadata": {},
   "outputs": [
    {
     "name": "stdout",
     "output_type": "stream",
     "text": [
      "2\n",
      "4\n",
      "6\n",
      "8\n",
      "10\n",
      "12\n"
     ]
    }
   ],
   "source": [
    "for i in range(1,12,2):\n",
    "    print(i+1)"
   ]
  },
  {
   "cell_type": "markdown",
   "metadata": {
    "id": "WG2QcDDhwi4a"
   },
   "source": [
    "Q3. Calculate the sum of all numbers from 1 to a given number\n",
    "    \n",
    "    Expected Output:\n",
    "\n",
    "    Enter number 10\n",
    "    \n",
    "    Sum is:  55\n"
   ]
  },
  {
   "cell_type": "code",
   "execution_count": 23,
   "metadata": {
    "scrolled": true
   },
   "outputs": [
    {
     "name": "stdout",
     "output_type": "stream",
     "text": [
      "Enter number10\n",
      "Sum of numbers is:  55.0\n"
     ]
    }
   ],
   "source": [
    "number = int(input(\"Enter number\"))\n",
    "base = 0.\n",
    "for num in range(1, number + 1, 1):\n",
    "    base = base + num\n",
    "print(\"Sum of numbers is: \", base)"
   ]
  },
  {
   "cell_type": "markdown",
   "metadata": {
    "id": "mc7lLUm5f4Cq"
   },
   "source": [
    "Q4. Write a program to display only those numbers from a list that satisfy the following conditions\n",
    "\n",
    "- The number must be divisible by five\n",
    "\n",
    "- If the number is greater than 150, then skip it and move to the next number\n",
    "\n",
    "- If the number is greater than 500, then stop the loop"
   ]
  },
  {
   "cell_type": "code",
   "execution_count": 42,
   "metadata": {
    "id": "P3Ct2ocKf6Hy"
   },
   "outputs": [
    {
     "name": "stdout",
     "output_type": "stream",
     "text": [
      "[75, 150, 145]\n"
     ]
    }
   ],
   "source": [
    "# Given:\n",
    "\n",
    "numbers = [12, 75, 150, 180, 145, 525, 50]\n",
    "new = []\n",
    "for i in numbers:\n",
    "    if i > 150:\n",
    "        if i > 500:\n",
    "            break\n",
    "        continue\n",
    "    if i % 5 == 0:\n",
    "        new.append(i)\n",
    "        \n",
    "print(new)"
   ]
  },
  {
   "cell_type": "markdown",
   "metadata": {
    "id": "rrxWvy7nMnAs"
   },
   "source": [
    "Q5. Print the given list in reverse order.\n",
    "\n",
    "```\n",
    "list1 = [10, 20, 30, 40, 50]\n",
    "```"
   ]
  },
  {
   "cell_type": "code",
   "execution_count": 26,
   "metadata": {
    "id": "z-GDgPn3Nr0y",
    "scrolled": true
   },
   "outputs": [
    {
     "name": "stdout",
     "output_type": "stream",
     "text": [
      "[50, 40, 30, 20, 10]\n"
     ]
    }
   ],
   "source": [
    "list1 = [10, 20, 30, 40, 50]\n",
    "list1.reverse()\n",
    "print(list1)"
   ]
  },
  {
   "cell_type": "code",
   "execution_count": 30,
   "metadata": {},
   "outputs": [
    {
     "name": "stdout",
     "output_type": "stream",
     "text": [
      "50\n",
      "40\n",
      "30\n",
      "20\n",
      "10\n"
     ]
    }
   ],
   "source": [
    "list1 = [10, 20, 30, 40, 50]\n",
    "new_list = reversed(list1)\n",
    "for item in new_list:\n",
    "    print(item)"
   ]
  }
 ],
 "metadata": {
  "colab": {
   "collapsed_sections": [],
   "provenance": []
  },
  "kernelspec": {
   "display_name": "Python 3 (ipykernel)",
   "language": "python",
   "name": "python3"
  },
  "language_info": {
   "codemirror_mode": {
    "name": "ipython",
    "version": 3
   },
   "file_extension": ".py",
   "mimetype": "text/x-python",
   "name": "python",
   "nbconvert_exporter": "python",
   "pygments_lexer": "ipython3",
   "version": "3.9.7"
  }
 },
 "nbformat": 4,
 "nbformat_minor": 1
}
