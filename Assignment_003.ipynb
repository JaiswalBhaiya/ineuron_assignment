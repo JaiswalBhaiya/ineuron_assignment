{
 "cells": [
  {
   "cell_type": "markdown",
   "metadata": {
    "id": "GT4IytkJMNa-"
   },
   "source": [
    "# Python String Manipulation\n",
    "\n",
    "1. Count the number of times `iNeuron` appears in the string.\n",
    "```python\n",
    "text = \"Welcome to iNeuron, You are a part of FSDS Bootcamp 2 in iNeuron. I hope you are enjoying the course by iNeuron\"\n",
    "```\n",
    "2. Check if position `5` to `11` ends with the phrase `iNeuron.` in the string \n",
    "```python\n",
    "txt = \"Hello, welcome to FSDS 2.0 at iNeuron.\"\n",
    "```\n",
    "3. Write a program that takes your full name as input and displays the abbreviations of the first and middle names except the last name which is displayed as it is. For example, if your name is Sunny Bhaveen Chandra, then the output should be S.B.Chandra.\n",
    "\n",
    "4. Join all items in a list into a string, using a hash(`#`) character as separator:\n",
    "```python\n",
    "LIST = [\"My\", \"name\", \"is\", \"Rishav\", \"Dash\"]\n",
    "```\n",
    "5. Write example for the following string manipulation function,\n",
    "\n",
    "  ```\n",
    "  - isdecimal()\n",
    "  - islower()\n",
    "  - isupper()\n",
    "  - isalpha()\n",
    "  - isnumeric()\n",
    "\n",
    "  ```\n",
    "6. Indian PAN card format follows the following formats - \n",
    "    - `AYEPC7894X`\n",
    "    - `ABCDE9999Y`\n",
    "  Take user input for PAN_CARD and validate as per the above example.\n"
   ]
  },
  {
   "cell_type": "markdown",
   "metadata": {},
   "source": [
    "# Python String Manipulation"
   ]
  },
  {
   "cell_type": "markdown",
   "metadata": {},
   "source": [
    "### 1. Count the number of times iNeuron appears in the string."
   ]
  },
  {
   "cell_type": "code",
   "execution_count": 1,
   "metadata": {
    "id": "KwVni9gipNi-"
   },
   "outputs": [
    {
     "data": {
      "text/plain": [
       "3"
      ]
     },
     "execution_count": 1,
     "metadata": {},
     "output_type": "execute_result"
    }
   ],
   "source": [
    "text = \"Welcome to iNeuron, You are a part of FSDS Bootcamp 2 in iNeuron. I hope you are enjoying the course by iNeuron\"\n",
    "text.count(\"iNeuron\")"
   ]
  },
  {
   "cell_type": "markdown",
   "metadata": {},
   "source": [
    "### 2. Check if position 5 to 11 ends with the phrase iNeuron. in the string"
   ]
  },
  {
   "cell_type": "code",
   "execution_count": 2,
   "metadata": {},
   "outputs": [
    {
     "data": {
      "text/plain": [
       "False"
      ]
     },
     "execution_count": 2,
     "metadata": {},
     "output_type": "execute_result"
    }
   ],
   "source": [
    "txt = \"Hello, welcome to FSDS 2.0 at iNeuron.\"\n",
    "txt[5:12].endswith('iNeuron')"
   ]
  },
  {
   "cell_type": "markdown",
   "metadata": {},
   "source": [
    "### 3. Write a program that takes your full name as input and displays the abbreviations of the first and middle names except the last name which is displayed as it is. For example, if your name is Sunny Bhaveen Chandra, then the output should be S.B.Chandra."
   ]
  },
  {
   "cell_type": "code",
   "execution_count": 34,
   "metadata": {},
   "outputs": [
    {
     "name": "stdout",
     "output_type": "stream",
     "text": [
      "enter your full name: deepak kumar jaiswal\n",
      "D.K.Jaiswal\n"
     ]
    }
   ],
   "source": [
    "def name(s):\n",
    "    \n",
    "    l = s.split()\n",
    "    new = \"\"\n",
    " \n",
    "    for i in range(len(l)-1):\n",
    "        s = l[i]\n",
    "\n",
    "        new += (s[0].upper()+'.')\n",
    "         \n",
    "    new += l[-1].title()\n",
    "     \n",
    "    return new\n",
    " \n",
    "s = input(\"enter your full name: \")\n",
    "print(name(s))\n",
    "\n"
   ]
  },
  {
   "cell_type": "markdown",
   "metadata": {},
   "source": [
    "### 4. Join all items in a list into a string, using a hash(#) character as separator:\n",
    "\n",
    "LIST = [\"My\", \"name\", \"is\", \"Rishav\", \"Dash\"]"
   ]
  },
  {
   "cell_type": "code",
   "execution_count": 38,
   "metadata": {},
   "outputs": [
    {
     "name": "stdout",
     "output_type": "stream",
     "text": [
      "My#name#is#Rishav#Dash\n"
     ]
    }
   ],
   "source": [
    "LIST = [\"My\", \"name\", \"is\", \"Rishav\", \"Dash\"]\n",
    "new = '#'.join(LIST)\n",
    "print(new)"
   ]
  },
  {
   "cell_type": "markdown",
   "metadata": {},
   "source": [
    "### 5. Write example for the following string manipulation function,\n",
    "\n",
    "- isdecimal()\n",
    "- islower()\n",
    "- isupper()\n",
    "- isalpha()\n",
    "- isnumeric()"
   ]
  },
  {
   "cell_type": "code",
   "execution_count": 45,
   "metadata": {
    "scrolled": true
   },
   "outputs": [
    {
     "name": "stdout",
     "output_type": "stream",
     "text": [
      "take input from user: 12313\n",
      "user input: 12313\n",
      "user has given correct input\n"
     ]
    }
   ],
   "source": [
    "deci = input(\"take input from user: \")\n",
    "print(f\"user input: {deci}\")\n",
    "\n",
    "if deci.isdecimal():\n",
    "  print(f\"user has given correct input\")\n",
    "else:\n",
    "  print(f\"wrong input\")"
   ]
  },
  {
   "cell_type": "code",
   "execution_count": 46,
   "metadata": {},
   "outputs": [
    {
     "name": "stdout",
     "output_type": "stream",
     "text": [
      "take input from user: Deepak\n",
      "user input: Deepak\n",
      "wrong input we need to autocorrect it\n",
      "Correct output: deepak\n"
     ]
    }
   ],
   "source": [
    "name = input(\"take input from user: \")\n",
    "print(f\"user input: {name}\")\n",
    "\n",
    "if name.islower():\n",
    "  print(f\"user has given correct input\")\n",
    "else:\n",
    "  print(f\"wrong input we need to autocorrect it\")\n",
    "  name = name.lower()\n",
    "  print(f\"Correct output: {name}\")\n",
    "  "
   ]
  },
  {
   "cell_type": "code",
   "execution_count": 49,
   "metadata": {},
   "outputs": [
    {
     "name": "stdout",
     "output_type": "stream",
     "text": [
      "take input from user: deepak\n",
      "user input: deepak\n",
      "wrong input we need to autocorrect it\n",
      "Correct output: DEEPAK\n"
     ]
    }
   ],
   "source": [
    "name = input(\"take input from user: \")\n",
    "print(f\"user input: {name}\")\n",
    "\n",
    "if name.isupper():\n",
    "  print(f\"user has given correct input\")\n",
    "else:\n",
    "  print(f\"wrong input we need to autocorrect it\")\n",
    "  name = name.upper()\n",
    "  print(f\"Correct output: {name}\")\n",
    "  "
   ]
  },
  {
   "cell_type": "code",
   "execution_count": 54,
   "metadata": {},
   "outputs": [
    {
     "name": "stdout",
     "output_type": "stream",
     "text": [
      "take input from user: 354654\n",
      "user input: 354654\n",
      "user has given correct input\n"
     ]
    }
   ],
   "source": [
    "name = input(\"take input from user: \")\n",
    "print(f\"user input: {name}\")\n",
    "\n",
    "if name.isnumeric():\n",
    "  print(f\"user has given correct input\")\n",
    "else:\n",
    "  print(f\"wrong input\")\n",
    "  "
   ]
  },
  {
   "cell_type": "code",
   "execution_count": 55,
   "metadata": {},
   "outputs": [
    {
     "name": "stdout",
     "output_type": "stream",
     "text": [
      "take input from user: jaiswal\n",
      "user input: jaiswal\n",
      "user has given correct input\n"
     ]
    }
   ],
   "source": [
    "name = input(\"take input from user: \")\n",
    "print(f\"user input: {name}\")\n",
    "\n",
    "if name.isalpha():\n",
    "  print(f\"user has given correct input\")\n",
    "else:\n",
    "  print(f\"wrong input\")"
   ]
  },
  {
   "cell_type": "markdown",
   "metadata": {},
   "source": [
    "### 6. Indian PAN card format follows the following formats -\n",
    "\n",
    "AYEPC7894X\n",
    "ABCDE9999Y Take user input for PAN_CARD and validate as per the above example."
   ]
  },
  {
   "cell_type": "code",
   "execution_count": null,
   "metadata": {},
   "outputs": [],
   "source": [
    "pan = input(\"enter your pan number: \")\n",
    "a=pan[0:5]\n",
    "b=pan[5:9]\n",
    "c=pan[9:10]\n",
    "if len(pan)==10:\n",
    "    if pan.isupper()==True and a.isalpha()==True and c.isalpha()==True and b.isdigit()==True:       \n",
    "        print(\"valid pan number\")   \n",
    "    else:          \n",
    "        print(\"invalid pan number\")\n",
    "else:\n",
    "    print(\"incorrect number of pan\")"
   ]
  }
 ],
 "metadata": {
  "colab": {
   "collapsed_sections": [],
   "provenance": []
  },
  "kernelspec": {
   "display_name": "Python 3 (ipykernel)",
   "language": "python",
   "name": "python3"
  },
  "language_info": {
   "codemirror_mode": {
    "name": "ipython",
    "version": 3
   },
   "file_extension": ".py",
   "mimetype": "text/x-python",
   "name": "python",
   "nbconvert_exporter": "python",
   "pygments_lexer": "ipython3",
   "version": "3.9.7"
  }
 },
 "nbformat": 4,
 "nbformat_minor": 1
}
